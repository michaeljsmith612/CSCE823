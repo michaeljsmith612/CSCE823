{
 "cells": [
  {
   "cell_type": "markdown",
   "metadata": {},
   "source": [
    "# DAY 4 - ANN\n",
    "\n",
    "In this excercise you will finish building a simple 3-node ANN to model the XOR problem.  However, we will not use the computer to train this model.  Instead, you will manually select parameters that produce the correct solution."
   ]
  },
  {
   "cell_type": "code",
   "execution_count": 1,
   "metadata": {},
   "outputs": [],
   "source": [
    "import numpy as np\n",
    "\n",
    "import matplotlib.pyplot as plt"
   ]
  },
  {
   "cell_type": "markdown",
   "metadata": {},
   "source": [
    "# Helper Functions"
   ]
  },
  {
   "cell_type": "code",
   "execution_count": 2,
   "metadata": {},
   "outputs": [],
   "source": [
    "def show2dFunctionOutput(model_function, featureData, labelData, title):\n",
    "    \"\"\"display results of arbitrary model function on 2-input (x1,x2) , 1-output (z) graphs\"\"\"\n",
    "    #cutoff = 0.5  # 0.5 for Sigmoid. 0.0 for TANH\n",
    "    fig, ax = plt.subplots()\n",
    "\n",
    "    xmin, xmax = np.min(featureData[:, 0]) - 0.1, np.max(featureData[:, 0]) + 0.1\n",
    "    ymin, ymax = np.min(featureData[:, 1]) - 0.1, np.max(featureData[:, 1]) + 0.1\n",
    "\n",
    "    # Create filled countour map to color both sides of the boundary\n",
    "    x = np.linspace(xmin, xmax, 200)\n",
    "    y = np.linspace(ymin, ymax, 200)\n",
    "    X, Y = np.meshgrid(x, y)\n",
    "    grid = np.c_[X.ravel(), Y.ravel()]\n",
    "    outputs = model_function(grid)  # get predictions\n",
    "    z = outputs.reshape(X.shape)  # reshape predictions for 2d representation\n",
    "    plt.contourf(X, Y, z, cmap='YlOrBr')\n",
    "\n",
    "    # add annotated points to show where the boolean inputs lie on the graph\n",
    "    c = np.array([[0, 0, 0], [0, 255, 0]])/255  #generates black and green colors\n",
    "    colors =np.dot(labelData,c[[1],:])+np.dot((1-labelData),c[[0],:])  #assigns colors per boolean label (0=black,1=green)\n",
    "    ax.scatter(featureData[:, 0], featureData[:, 1], color=colors, alpha=0.5)\n",
    "    for i, txt in enumerate(labelData):\n",
    "        ax.annotate(txt.item(), (featureData[i, 0], featureData[i, 1]))\n",
    "\n",
    "        # adjust the axis & add labels for the graph\n",
    "    plt.axis([xmin, xmax, ymin, ymax])\n",
    "    plt.ylabel('x2')\n",
    "    plt.xlabel('x1')\n",
    "    plt.title(title)\n",
    "    plt.show()\n",
    "    \n",
    "def makeDecisionBoundaryBool2(model, featureData, labelData, title):\n",
    "    '''Build decision boundary figrue for 2-input, 1-output boolean logic functions\n",
    "    Note that this assumes a hard sigmoid was used and establishes a cutoff at 0.5\n",
    "    for predicting 0 or 1'''\n",
    "    cutoff = 0.5  # 0.5 for Sigmoid. 0.0 for TANH\n",
    "    fig, ax = plt.subplots()\n",
    "\n",
    "    xmin, xmax = np.min(featureData[:, 0]) - 0.1, np.max(featureData[:, 0]) + 0.1\n",
    "    ymin, ymax = np.min(featureData[:, 1]) - 0.1, np.max(featureData[:, 1]) + 0.1\n",
    "\n",
    "    # Create filled countour map to color both sides of the boundary\n",
    "    x = np.linspace(xmin, xmax, 200)\n",
    "    y = np.linspace(ymin, ymax, 200)\n",
    "    X, Y = np.meshgrid(x, y)\n",
    "    grid = np.c_[X.ravel(), Y.ravel()]\n",
    "    preds = model.predict(grid)  # get predictions\n",
    "    z = preds.reshape(X.shape) > cutoff  # cutoff on predictions to return boolean output\n",
    "    plt.contourf(X, Y, z, cmap='YlOrBr')\n",
    "\n",
    "    # add annotated points to show where the boolean inputs lie on the graph\n",
    "    c = np.array([[0, 0, 0], [0, 255, 0]])/255  #generates black and green colors\n",
    "    colors =np.dot(labelData,c[[1],:])+np.dot((1-labelData),c[[0],:])  #assigns colors per boolean label (0=black,1=green)\n",
    "    ax.scatter(featureData[:, 0], featureData[:, 1], color=colors, alpha=0.5)\n",
    "    for i, txt in enumerate(labelData):\n",
    "        ax.annotate(txt.item(), (featureData[i, 0], featureData[i, 1]))\n",
    "\n",
    "        # adjust the axis & add labels for the graph\n",
    "    plt.axis([xmin, xmax, ymin, ymax])\n",
    "    plt.ylabel('x2')\n",
    "    plt.xlabel('x1')\n",
    "    plt.title(title)\n",
    "    plt.show()\n",
    "    \n",
    "\n",
    "# ACTIVATION FUNCTIONS     \n",
    "\n",
    "def linear(x):\n",
    "    \"\"\"returns the linear activation of input structure x (the same values as x)\"\"\"\n",
    "    return x\n",
    "\n",
    "\n",
    "def heavyside(x):\n",
    "    \"\"\"returns the step function values of input structure x\"\"\"\n",
    "    return x>0\n",
    "\n",
    "def sigmoid(x):\n",
    "    \"\"\"Returns the logistic-sigmoided values of input structure x\"\"\"\n",
    "    return 1. / (1. + np.exp(-x))\n",
    "\n",
    "def relu(x):\n",
    "    \"\"\"Returns the rectified linear values of input structure x \"\"\"\n",
    "    return np.maximum(0, x)\n",
    "    \n",
    "    "
   ]
  },
  {
   "cell_type": "markdown",
   "metadata": {},
   "source": [
    "# Step 1 (Incomplete - Student Code Required):\n",
    "\n",
    "We will use a python class definition for the ANN\n",
    "\n",
    "Student code is required for computing the result of a layer's forward propagation (method = ```compute_foward``` in the layer subclass)\n",
    "\n",
    "Note that your code should be designed to handle more than one input (e.g. it handles a batch of inputs where the rows are observations and the columns are features (or, if after the first hidden layer, the columns are the activations from the previous layer))\n",
    "\n",
    "Also, you should use the class-defined activation function on the resulting net input to the node (```self.activation_fcn(net)```)\n",
    "\n",
    "Essentially you are computing the following for all observations in the dataset\n",
    "$$ h = g(z) = g\\big({b+\\sum_{j=1}^p(w_jx_j)}\\big)=g(b+wx) $$\n",
    "\n",
    "where: \n",
    "* $x$ is the input to the layer\n",
    "* $w$ is the layer's weight matrix\n",
    "* $c$ are the layer's biases\n",
    "* $z$ is  ```net```\n",
    "* and the function $g( \\cdot )$ is the activation function: ```self.activation_fcn(net)```\n",
    "\n",
    "See instruction set for additional details.\n",
    "\n"
   ]
  },
  {
   "cell_type": "code",
   "execution_count": 3,
   "metadata": {},
   "outputs": [],
   "source": [
    "\n",
    "\n",
    "class ANN:\n",
    "    \n",
    "    data = []\n",
    "    layers = []\n",
    "    inputWidth = 1\n",
    "    outputWidth = 1\n",
    "\n",
    "    \n",
    "    class Layer:\n",
    "        \n",
    "        \n",
    "        \n",
    "        \"\"\"class defining the elements of an ANN layer\"\"\"\n",
    "        def __init__(self):\n",
    "            w = []\n",
    "            b = []\n",
    "            self.activation_fcn = []\n",
    "            self.orderNumber = []\n",
    "            self.previous = None\n",
    "            self.next = None\n",
    "            \n",
    "        def set_weights(self,w,b):\n",
    "            \"\"\"set the weights and bias for the layer.  Layer weights should have dimesion: (thislayer_nodecount, previouslayer_nodecount)\n",
    "            the dimension of the bias should be (thislayer_nodecount,1)\"\"\"\n",
    "            self.w = w\n",
    "            self.b = b\n",
    "            return self\n",
    "        \n",
    "        def set_activation(self, activation_fcn):\n",
    "            \"\"\" Sets the activation function for this network.  Use before running the network\"\"\"\n",
    "            self.activation_fcn = activation_fcn\n",
    "            return self\n",
    "        \n",
    "        @staticmethod\n",
    "        def compute_foward(self, inputs):\n",
    "            \"\"\"Returns layer ouput from input (shape = [nodeCount, input]) of the weighted input plus bias\n",
    "            input shape must be [lastlayer_nodeCount, samples] or [featurecount, samplecount] \"\"\"\n",
    "            \n",
    "            net = np.zeros((self.w.shape[0],inputs.shape[1]))  #placeholder for the LAYER result of summation of multiplied inputs\n",
    "            layer_out = np.zeros((self.w.shape[0],inputs.shape[1]))  #placeholder for output shape\n",
    "            \n",
    "            #########   >> STUDENT CODE -STEP 1- IMPLEMENT THE COMPUTATION OF NET & ACTIVATION <<   ##########\n",
    "            \n",
    "            # note... if you forget to do this, your network will return zeros due to the placeholder above\n",
    "\n",
    "            \n",
    "            # compute net as the sum of the weigted inputs plus the bias (hint - use linear algebra instead of a loop)\n",
    "            #--(WRITE CODE HERE)\n",
    "        \n",
    "            \n",
    "            # compute layer_out using this class' activation function:   self.activation_fcn(...)\n",
    "            #--(WRITE CODE HERE)\n",
    "            \n",
    "            ##################################################################################################\n",
    "            \n",
    "            return layer_out\n",
    "\n",
    "        \n",
    "      \n",
    "\n",
    "    def __init__(self):\n",
    "        self.data = []\n",
    "        self.layers = []\n",
    "        self.inputWidth = 1\n",
    "        self.outputWidth = 1\n",
    "        \n",
    "    def set_input_width(self, inputWidth):\n",
    "        \"\"\"defines the input layer width for the network\"\"\"\n",
    "        self.inputWidth = inputWidth\n",
    "    \n",
    "    def add_layer(self, nodecount=1, activation_fcn=relu  ):\n",
    "        \"\"\"adds a layer to the neural network and returns the layer\"\"\"\n",
    "        oldLayerCount = len(self.layers)\n",
    "        thislayer = ANN.Layer()        \n",
    "        thislayer.orderNumber = oldLayerCount+1\n",
    "        if oldLayerCount > 0:  #other layers have been added already\n",
    "            \n",
    "            lastLayer = self.layers[-1]\n",
    "            thislayer.previous = lastLayer\n",
    "            lastLayer.next = thislayer\n",
    "            layerInputSize = lastLayer.w.shape[1]\n",
    "        else:  #this will be the first layer\n",
    "            layerInputSize = self.inputWidth\n",
    "        thislayer.w = np.zeros((layerInputSize,nodecount))\n",
    "        thislayer.b = np.zeros((1,nodecount))\n",
    "        thislayer.activation_fcn = activation_fcn\n",
    "        self.layers = self.layers + [thislayer]\n",
    "        return thislayer\n",
    "\n",
    "\n",
    "\n",
    "    # STEP 4\n",
    "    def forwardPropagation(self, inputs):\n",
    "        \"\"\"Compute forward pass of two layer network\n",
    "        inputs are assumed to be (shape=[sampleCount,featureCount])\n",
    "        returns a matrix of raw outputs with one row of output per node (shape=[sampleCount, outputNodeCount])\n",
    "        Internal matrices are shaped for efficiency to avoid internal transposes (columns hold observations/samples) \"\"\"\n",
    "        #inputs and outputs will be transposed for efficiency during forwardPropagation and untransposed before returning\n",
    "        layer_input = inputs.T\n",
    "        for lnum,layer in enumerate(self.layers):\n",
    "            layer_out = layer.compute_foward(layer, layer_input)\n",
    "            layer_input = layer_out\n",
    "        network_output = layer_out.T\n",
    "        return network_output\n",
    "\n",
    "\n",
    "    def predict(self, X, threshold=0.5):\n",
    "        \"\"\"Compute predictions using forward propagation for single binary classification at threshold\n",
    "        X is a standard dataFrame without biases (shape=[observationCount,featureCount])\n",
    "        returns a standard column vector of binary predictions in {0,1}: (shape=[observationCount, 1])\"\"\"\n",
    "        network_output = self.forwardPropagation(X)\n",
    "        preds = network_output > threshold\n",
    "        return preds\n",
    "\n"
   ]
  },
  {
   "cell_type": "markdown",
   "metadata": {},
   "source": [
    "## Instantiate data\n",
    "\n",
    "Note that the input data (X) and labels are booleans encoded using ones (True) and zeros (False)"
   ]
  },
  {
   "cell_type": "code",
   "execution_count": 4,
   "metadata": {},
   "outputs": [],
   "source": [
    "X = np.array([[0., 0.], [0., 1.], [1., 0.], [1., 1.]])\n",
    "# yAND = np.matrix('0;0;0;1')\n",
    "# yOR = np.matrix('0;1;1;1')\n",
    "yXOR = np.matrix('0;1;1;0')"
   ]
  },
  {
   "cell_type": "markdown",
   "metadata": {},
   "source": [
    "# STEP 2 (Incomplete - Student Code Required)\n",
    "\n",
    "Student should manually set the weights for two layers and their biases to make this work for the network.  "
   ]
  },
  {
   "cell_type": "code",
   "execution_count": 5,
   "metadata": {},
   "outputs": [],
   "source": [
    "###################-----STUDENT CODE HERE:------###################\n",
    "\n",
    "# Goal: modify these weights and biases to produce XOR\n",
    "# Hint - you could think of this network as 3 networked\n",
    "# perceptrons, each of which solves a boolean logic problem such as OR, & AND.  \n",
    "# you can also use the weights of the second layer to invert the output from a previous layer to form a NOT\n",
    "# l1 is the first hidden layer; l2 is the output layer\n",
    "\n",
    "# \"Default\" -  This is a placeholder that doesnt work:\n",
    "\n",
    "l1_weights = np.array([[1., 1.],\n",
    "                   [1., 1.]])   # hidden weights - indices: j,i : shape = [to, from]\n",
    "l2_weights = np.array([[1., 1.]])       # output weights - row vector, shape = [to,from]\n",
    "l1_bias = np.array([[0.], [0.]])        # hidden biases - column vector, shape = [hiddenNodeCount, 1]\n",
    "l2_bias = np.array([[0.]])              # output node bias\n",
    "\n",
    "\n",
    "\n",
    "###################-----END STUDENT CODE--------###################"
   ]
  },
  {
   "cell_type": "markdown",
   "metadata": {},
   "source": [
    "## Instantiate a model and add layers with the chosen weight & bias information\n",
    "\n",
    "This model has two hidden layers\n",
    "* The first hidden layer has two nodes\n",
    "* The second hidden layer (i.e. output layer) has one node "
   ]
  },
  {
   "cell_type": "code",
   "execution_count": 6,
   "metadata": {
    "collapsed": false,
    "jupyter": {
     "outputs_hidden": false
    }
   },
   "outputs": [
    {
     "data": {
      "text/plain": [
       "<__main__.ANN.Layer at 0x13012e29670>"
      ]
     },
     "execution_count": 6,
     "metadata": {},
     "output_type": "execute_result"
    }
   ],
   "source": [
    "#instantiate a network object and set weights manually\n",
    "model = ANN()\n",
    "model.set_input_width(X.shape[1])\n",
    "layer1=model.add_layer(nodecount=2,activation_fcn=heavyside)\n",
    "layer1.set_weights(l1_weights,l1_bias)\n",
    "layer2 = model.add_layer(nodecount=1, activation_fcn=heavyside)\n",
    "layer2.set_weights(l2_weights,l2_bias)\n"
   ]
  },
  {
   "cell_type": "markdown",
   "metadata": {},
   "source": [
    "# Test to see if XOR works"
   ]
  },
  {
   "cell_type": "code",
   "execution_count": 7,
   "metadata": {
    "collapsed": false,
    "jupyter": {
     "outputs_hidden": false
    }
   },
   "outputs": [
    {
     "name": "stdout",
     "output_type": "stream",
     "text": [
      "X \n",
      " [[0. 0.]\n",
      " [0. 1.]\n",
      " [1. 0.]\n",
      " [1. 1.]]\n",
      "\n",
      "default weights\n",
      "predictions: \n",
      " [[False]\n",
      " [False]\n",
      " [False]\n",
      " [False]]\n",
      "Predictions correct?: \n",
      " [[ True]\n",
      " [False]\n",
      " [False]\n",
      " [ True]]\n",
      "\n"
     ]
    },
    {
     "data": {
      "image/png": "[encoded data removed]",
      "text/plain": [
       "<Figure size 432x288 with 1 Axes>"
      ]
     },
     "metadata": {
      "needs_background": "light"
     },
     "output_type": "display_data"
    },
    {
     "data": {
      "image/png": "[encoded data removed]",
      "text/plain": [
       "<Figure size 432x288 with 1 Axes>"
      ]
     },
     "metadata": {
      "needs_background": "light"
     },
     "output_type": "display_data"
    }
   ],
   "source": [
    "#check only the points of XOR\n",
    "print(\"X \\n\", X)\n",
    "preds = model.predict(X)\n",
    "correct = yXOR == preds\n",
    "print(\"\\ndefault weights\")\n",
    "print(\"predictions: \\n\", preds)\n",
    "print(\"Predictions correct?: \\n\", correct)\n",
    "print()\n",
    "\n",
    "#show full decision boundary info\n",
    "show2dFunctionOutput(model.forwardPropagation, X, yXOR, \"Response of Network - student\")\n",
    "makeDecisionBoundaryBool2(model, X, yXOR, \"XOR predictions - student\")"
   ]
  }
 ],
 "metadata": {
  "kernelspec": {
   "display_name": "Python 3 (ipykernel)",
   "language": "python",
   "name": "python3"
  },
  "language_info": {
   "codemirror_mode": {
    "name": "ipython",
    "version": 3
   },
   "file_extension": ".py",
   "mimetype": "text/x-python",
   "name": "python",
   "nbconvert_exporter": "python",
   "pygments_lexer": "ipython3",
   "version": "3.9.12"
  }
 },
 "nbformat": 4,
 "nbformat_minor": 4
}
