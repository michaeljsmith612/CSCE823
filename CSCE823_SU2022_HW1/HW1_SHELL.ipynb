{
 "cells": [
  {
   "cell_type": "markdown",
   "metadata": {},
   "source": [
    "NAME:  {TODO: Insert name here}\n",
    "===="
   ]
  },
  {
   "cell_type": "markdown",
   "metadata": {},
   "source": [
    "CSCE 823 Assginment 1 \n",
    "---\n",
    "\n",
    "Starter Code\n",
    "\n",
    "Simple perceptron learning for NOT, OR, AND, and paper example (NUT).  Also trained on XOR which is\n",
    "mainly a teaching tool to show how non-linearly separable points cannot be trained to with one layer.\n",
    "\n",
    "In steps 4-7, Student will need to **analyze results and discuss** NOT, OR, AND and  NUT performance\n",
    "\n",
    "In step 8, Student will need to analyze results and discuss performance of single layer perceptron XOR\n",
    "\n",
    "In step 9, Student will need to build new multi layer perceptron for XOR, train, evaluate, and discuss performance"
   ]
  },
  {
   "cell_type": "code",
   "execution_count": 1,
   "metadata": {},
   "outputs": [],
   "source": [
    "import numpy as np\n",
    "import matplotlib.pyplot as plt\n",
    "import tensorflow as tf\n",
    "import tensorflow.keras as keras"
   ]
  },
  {
   "cell_type": "code",
   "execution_count": 2,
   "metadata": {},
   "outputs": [],
   "source": [
    "from tensorflow.keras.models import Sequential\n",
    "from tensorflow.keras.layers import Dense, Activation\n",
    "from tensorflow.keras import optimizers\n",
    "from tensorflow.keras import callbacks\n",
    "\n",
    "\n",
    "from sklearn.preprocessing import LabelEncoder\n",
    "\n",
    "# import keras as keras"
   ]
  },
  {
   "cell_type": "code",
   "execution_count": 3,
   "metadata": {},
   "outputs": [
    {
     "name": "stdout",
     "output_type": "stream",
     "text": [
      "Tensor_Flow version:\n",
      "2.6.0\n"
     ]
    }
   ],
   "source": [
    "print(\"Tensor_Flow version:\")\n",
    "print(tf.__version__)"
   ]
  },
  {
   "cell_type": "code",
   "execution_count": 4,
   "metadata": {},
   "outputs": [
    {
     "name": "stdout",
     "output_type": "stream",
     "text": [
      "Keras version:\n",
      "2.6.0\n"
     ]
    }
   ],
   "source": [
    "print(\"Keras version:\")\n",
    "print(keras.__version__)"
   ]
  },
  {
   "cell_type": "markdown",
   "metadata": {},
   "source": [
    "## Confirm tensorflow working properly\n",
    "This will report on the GPUs available to tensorflow"
   ]
  },
  {
   "cell_type": "code",
   "execution_count": 5,
   "metadata": {},
   "outputs": [
    {
     "name": "stdout",
     "output_type": "stream",
     "text": [
      "Tensorflow version:  2.6.0\n",
      "Tensorflow devices:  [PhysicalDevice(name='/physical_device:GPU:0', device_type='GPU')]\n",
      "Num GPUs Available:  1\n",
      "GPUs Available:  [PhysicalDevice(name='/physical_device:GPU:0', device_type='GPU')]\n"
     ]
    }
   ],
   "source": [
    "print(\"Tensorflow version: \", tf.__version__)\n",
    "print(\"Tensorflow devices: \", tf.config.list_physical_devices(\"GPU\"))\n",
    "print(\"Num GPUs Available: \", len(tf.config.experimental.list_physical_devices('GPU')))\n",
    "print(\"GPUs Available: \", tf.config.experimental.list_physical_devices('GPU'))"
   ]
  },
  {
   "cell_type": "markdown",
   "metadata": {},
   "source": [
    "## Enable GPU growth to solve cublas problem\n",
    "\n",
    "(see https://stackoverflow.com/questions/41117740/tensorflow-crashes-with-cublas-status-alloc-failed)"
   ]
  },
  {
   "cell_type": "code",
   "execution_count": 6,
   "metadata": {},
   "outputs": [
    {
     "name": "stdout",
     "output_type": "stream",
     "text": [
      "1 Physical GPUs, 1 Logical GPUs\n"
     ]
    }
   ],
   "source": [
    "gpus = tf.config.experimental.list_physical_devices('GPU')\n",
    "if gpus:\n",
    "    try:\n",
    "        # Currently, memory growth needs to be the same across GPUs\n",
    "        for gpu in gpus:\n",
    "            tf.config.experimental.set_memory_growth(gpu, True)\n",
    "        logical_gpus = tf.config.experimental.list_logical_devices('GPU')\n",
    "        print(len(gpus), \"Physical GPUs,\", len(logical_gpus), \"Logical GPUs\")\n",
    "    except RuntimeError as e:\n",
    "        # Memory growth must be set before GPUs have been initialized\n",
    "        print(e)"
   ]
  },
  {
   "cell_type": "markdown",
   "metadata": {},
   "source": [
    "## Test Tensorflow to ensure it is ready to train a model on GPU\n",
    "\n",
    "(runs 2 epochs of a CNN on cifar10... not necessary for this HW but helpful code to ensure trainability of CNN on GPU)"
   ]
  },
  {
   "cell_type": "code",
   "execution_count": 7,
   "metadata": {},
   "outputs": [
    {
     "name": "stdout",
     "output_type": "stream",
     "text": [
      "Epoch 1/2\n",
      "5000/5000 [==============================] - 13s 2ms/step - loss: 1.4460\n",
      "Epoch 2/2\n",
      "5000/5000 [==============================] - 12s 2ms/step - loss: 1.1599\n"
     ]
    }
   ],
   "source": [
    "from tensorflow.keras import datasets, layers, models\n",
    "import matplotlib.pyplot as plt\n",
    "\n",
    "(train_images, train_labels), (test_images, test_labels) = datasets.cifar10.load_data()\n",
    "\n",
    "train_images, test_images = train_images / 255.0, test_images / 255.0\n",
    "\n",
    "model = models.Sequential()\n",
    "model.add(layers.Conv2D(32, (3, 3), activation='relu', input_shape=(32, 32, 3)))\n",
    "model.add(layers.MaxPooling2D((2, 2)))\n",
    "model.add(layers.Flatten())\n",
    "model.add(layers.Dense(64, activation='relu'))\n",
    "model.add(layers.Dense(10))\n",
    "\n",
    "model.compile(optimizer='Adam', loss=tf.keras.losses.SparseCategoricalCrossentropy(from_logits=True))\n",
    "\n",
    "history = model.fit(train_images, train_labels, batch_size=10, epochs=2)"
   ]
  },
  {
   "cell_type": "markdown",
   "metadata": {},
   "source": [
    "# Step 0: Tools & Helper Functions"
   ]
  },
  {
   "cell_type": "code",
   "execution_count": 8,
   "metadata": {
    "collapsed": false,
    "jupyter": {
     "outputs_hidden": false
    }
   },
   "outputs": [],
   "source": [
    "def makeDecisionBoundaryBool2(model,featureData,labelData,title):\n",
    "    '''Build decision boundary figrue for 2-input, 1-output boolean logic functions\n",
    "    Note that this assumes a hard sigmoid was used and establishes a cutoff at 0.5\n",
    "    for predicting 0 or 1'''  \n",
    "    cutoff = 0.5   #0.5 for Sigmoid. 0.0 for TANH\n",
    "    fig, ax = plt.subplots()\n",
    "\n",
    "    xmin,xmax = np.min(featureData[:,0])-0.1, np.max(featureData[:,0])+0.1\n",
    "    ymin,ymax = np.min(featureData[:,1])-0.1, np.max(featureData[:,1])+0.1\n",
    "    \n",
    "    #Create filled countour map to color both sides of the boundary\n",
    "    x = np.linspace(xmin,xmax,200)\n",
    "    y = np.linspace(ymin,ymax,200)\n",
    "    X, Y = np.meshgrid(x, y)\n",
    "    grid = np.c_[X.ravel(),Y.ravel()]\n",
    "    preds = model.predict(grid)  #get predictions\n",
    "    z = preds.reshape(X.shape)>cutoff   # cutoff on predictions to return boolean output\n",
    "    plt.contourf(X,Y,z,cmap='YlOrBr')\n",
    "    \n",
    "    #add annotated points to show where the boolean inputs lie on the graph\n",
    "    ax.scatter(featureData[:,0],featureData[:,1], color='b', alpha = 0.5)\n",
    "    for i, txt in enumerate(labelData):\n",
    "        # ax.annotate(np.asscalar(txt), (featureData[i,0],featureData[i,1])) \n",
    "        ax.annotate(txt.item(), (featureData[i,0],featureData[i,1])) \n",
    "    \n",
    "    #adjust the axis & add labels for the graph\n",
    "    plt.axis([xmin, xmax, ymin, ymax])\n",
    "    plt.ylabel('x2')\n",
    "    plt.xlabel('x1')\n",
    "    plt.title(title)  \n",
    "\n",
    "def graphHistory(history, title):\n",
    "    '''Function for graphing the training and valiedation accuracy and loss'''\n",
    "    # summarize history for accuracy\n",
    "    fig = plt.figure()\n",
    "    plt.plot(history.history['accuracy'])\n",
    "    plt.plot(history.history['val_accuracy'])\n",
    "    plt.title('Model Accuracy ' + title)\n",
    "    plt.ylabel('Accuracy')\n",
    "    plt.xlabel('Epoch')\n",
    "    plt.legend(['Tr. Acc', 'Val. Acc'])\n",
    "    plt.show()\n",
    "\n",
    "    # summarize history for loss\n",
    "    fig = plt.figure()\n",
    "    plt.plot(history.history['loss'])\n",
    "    plt.plot(history.history['val_loss'])\n",
    "    plt.title('Model Loss ' + title)\n",
    "    plt.ylabel('Loss')\n",
    "    plt.xlabel('Epoch')\n",
    "    plt.legend(['Tr. Loss', 'Val. Loss'])\n",
    "    plt.show()\n",
    "    "
   ]
  },
  {
   "cell_type": "markdown",
   "metadata": {},
   "source": [
    "# Step 1: Generic Keras model for perceptron (must be parameterized on call)"
   ]
  },
  {
   "cell_type": "code",
   "execution_count": 9,
   "metadata": {
    "collapsed": false,
    "jupyter": {
     "outputs_hidden": false
    }
   },
   "outputs": [],
   "source": [
    "def perceptron(width, learningRate):\n",
    "    '''Builds and returns a perceptron model of arbitrary input width & learning rate'''\n",
    "    model = models.Sequential()  #define the building mode - sequential\n",
    "    # declare the hidden layer with 1 node, hard sigmoid\n",
    "    # set bias vector to all 1s\n",
    "    model.add(Dense(units=1, activation='hard_sigmoid', \n",
    "                    use_bias=True, bias_initializer='ones', \n",
    "                    input_shape=(width,)))\n",
    "    # declare the adam optimizer\n",
    "    adam = optimizers.Adam(learning_rate=learningRate)\n",
    "    # complile the model with loss = binary_crossentropy\n",
    "    model.compile(optimizer=adam,\n",
    "                  loss='binary_crossentropy',\n",
    "                  metrics=['accuracy'])\n",
    "    return model"
   ]
  },
  {
   "cell_type": "markdown",
   "metadata": {},
   "source": [
    "# Step 2:  Boolean Datasets"
   ]
  },
  {
   "cell_type": "code",
   "execution_count": 10,
   "metadata": {
    "collapsed": false,
    "jupyter": {
     "outputs_hidden": false
    }
   },
   "outputs": [],
   "source": [
    "# Inputs to the perceptrons\n",
    "xONE = np.array([[1],[0]])\n",
    "xTWO = np.array([[0,0],[0,1],[1,0],[1,1]])\n",
    "    \n",
    "# y matrices for boolean output\n",
    "yNOT = np.matrix('0;1')\n",
    "yAND = np.matrix('0;0;0;1')\n",
    "yOR = np.matrix('0;1;1;1')\n",
    "yXOR = np.matrix('0;1;1;0')"
   ]
  },
  {
   "cell_type": "markdown",
   "metadata": {},
   "source": [
    "# Step 3:  Instantiate Fyfe's Nut Dataset"
   ]
  },
  {
   "cell_type": "code",
   "execution_count": 11,
   "metadata": {
    "collapsed": false,
    "jupyter": {
     "outputs_hidden": false
    }
   },
   "outputs": [],
   "source": [
    "# Defining NUT database arrays\n",
    "xNUT = np.array([[2.2,1.4],[1.5,1.0],[0.6,0.5],[2.3,2.0],[1.3,1.5],[0.3,1.0]])\n",
    "yNUT = np.array([[0],[0],[0],[1],[1],[1]])"
   ]
  },
  {
   "cell_type": "markdown",
   "metadata": {},
   "source": [
    "# Step 4:  Modeling the Boolean NOT Dataset"
   ]
  },
  {
   "cell_type": "markdown",
   "metadata": {},
   "source": [
    "## Step 4a:  Fit model on NOT dataset"
   ]
  },
  {
   "cell_type": "code",
   "execution_count": 12,
   "metadata": {
    "collapsed": false,
    "jupyter": {
     "outputs_hidden": false
    }
   },
   "outputs": [],
   "source": [
    "# Learning 'NOT'\n",
    "\n",
    "pmNOT = perceptron(width=1,learningRate=0.1)\n",
    "training_verbosity = 0 #set to 1 or 2 for more detaied training output, 0 for none\n",
    "\n",
    "history = pmNOT.fit(x=xONE, y=yNOT, batch_size=1, epochs=100, verbose=training_verbosity, callbacks=None, \n",
    "                      validation_split=0.0, \n",
    "                      validation_data=(xONE,yNOT), shuffle=True, class_weight=None,sample_weight=None, initial_epoch=0)\n",
    "\n",
    "\n"
   ]
  },
  {
   "cell_type": "markdown",
   "metadata": {},
   "source": [
    "## Step 4b:  Report Training and Validation Performance Results"
   ]
  },
  {
   "cell_type": "code",
   "execution_count": 13,
   "metadata": {
    "collapsed": false,
    "jupyter": {
     "outputs_hidden": false
    }
   },
   "outputs": [
    {
     "name": "stdout",
     "output_type": "stream",
     "text": [
      "1/1 - 0s - loss: 0.0000e+00 - accuracy: 1.0000\n",
      "[0.0, 1.0]\n",
      "dict_keys(['loss', 'accuracy', 'val_loss', 'val_accuracy'])\n"
     ]
    },
    {
     "data": {
      "image/png": "[encoded data removed]",
      "text/plain": [
       "<Figure size 432x288 with 1 Axes>"
      ]
     },
     "metadata": {
      "needs_background": "light"
     },
     "output_type": "display_data"
    },
    {
     "data": {
      "image/png": "[encoded data removed]",
      "text/plain": [
       "<Figure size 432x288 with 1 Axes>"
      ]
     },
     "metadata": {
      "needs_background": "light"
     },
     "output_type": "display_data"
    }
   ],
   "source": [
    "lossValMetrics = pmNOT.evaluate(xONE, yNOT, batch_size=2, verbose=2, sample_weight=None)\n",
    "print(lossValMetrics)\n",
    "#plot history\n",
    "print(history.history.keys())    \n",
    "graphHistory(history, '(NOT)')"
   ]
  },
  {
   "cell_type": "markdown",
   "metadata": {},
   "source": [
    "## STUDENT TODO:  insert model performance discussion here.  You should experiment with different learning rate, and max epochs}"
   ]
  },
  {
   "cell_type": "markdown",
   "metadata": {},
   "source": []
  },
  {
   "cell_type": "markdown",
   "metadata": {},
   "source": [
    "# Step 5: Modeling the  OR Dataset"
   ]
  },
  {
   "cell_type": "markdown",
   "metadata": {},
   "source": [
    "## Step 5a:  Fit Model on OR\n",
    "note that we are going to break the rule about train-val split because there are only 4 datapoints in this dataset and we need them all\n",
    "\n",
    "We will use the same set for training and validation"
   ]
  },
  {
   "cell_type": "code",
   "execution_count": 14,
   "metadata": {
    "collapsed": false,
    "jupyter": {
     "outputs_hidden": false
    }
   },
   "outputs": [],
   "source": [
    "# Learning OR\n",
    "pmOR = perceptron(width=2,learningRate=0.1)\n",
    "training_verbosity = 0 #set to 1 or 2 for more detaied training output, 0 for none\n",
    "history = pmOR.fit(x=xTWO, y=yOR, batch_size=1, epochs=100, verbose=training_verbosity, callbacks=None, \n",
    "    validation_split=0.0, validation_data=(xTWO,yOR), shuffle=True, class_weight=None, \n",
    "    sample_weight=None, initial_epoch=0)"
   ]
  },
  {
   "cell_type": "markdown",
   "metadata": {},
   "source": [
    "## Step 5b:  Evaluate training performance on OR"
   ]
  },
  {
   "cell_type": "code",
   "execution_count": 15,
   "metadata": {
    "collapsed": false,
    "jupyter": {
     "outputs_hidden": false
    }
   },
   "outputs": [
    {
     "name": "stdout",
     "output_type": "stream",
     "text": [
      "1/1 - 0s - loss: 0.0000e+00 - accuracy: 1.0000\n",
      "[0.0, 1.0]\n",
      "[array([[5.321106 ],\n",
      "       [5.3383203]], dtype=float32), array([-2.5376816], dtype=float32)]\n",
      "dict_keys(['loss', 'accuracy', 'val_loss', 'val_accuracy'])\n"
     ]
    },
    {
     "data": {
      "image/png": "[encoded data removed]",
      "text/plain": [
       "<Figure size 432x288 with 1 Axes>"
      ]
     },
     "metadata": {
      "needs_background": "light"
     },
     "output_type": "display_data"
    },
    {
     "data": {
      "image/png": "[encoded data removed]",
      "text/plain": [
       "<Figure size 432x288 with 1 Axes>"
      ]
     },
     "metadata": {
      "needs_background": "light"
     },
     "output_type": "display_data"
    }
   ],
   "source": [
    "lossValMetrics = pmOR.evaluate(xTWO, yOR, batch_size=4, verbose=2, sample_weight=None)\n",
    "print(lossValMetrics)\n",
    "weights = pmOR.get_weights()\n",
    "print(weights)\n",
    "#plot history\n",
    "print(history.history.keys())    \n",
    "graphHistory(history, '(OR)')"
   ]
  },
  {
   "cell_type": "markdown",
   "metadata": {},
   "source": [
    "{TODO:  insert model performance discussion here.  You should experiment with different learning rate, and max epochs}"
   ]
  },
  {
   "cell_type": "markdown",
   "metadata": {},
   "source": [
    "## Step 5c:  Display the Decision Boundary on OR"
   ]
  },
  {
   "cell_type": "code",
   "execution_count": 16,
   "metadata": {
    "collapsed": false,
    "jupyter": {
     "outputs_hidden": false
    }
   },
   "outputs": [
    {
     "data": {
      "image/png": "[encoded data removed]",
      "text/plain": [
       "<Figure size 432x288 with 1 Axes>"
      ]
     },
     "metadata": {
      "needs_background": "light"
     },
     "output_type": "display_data"
    }
   ],
   "source": [
    "makeDecisionBoundaryBool2(pmOR,xTWO,yOR,'OR Decision Boundary')"
   ]
  },
  {
   "cell_type": "markdown",
   "metadata": {},
   "source": [
    "{TODO:  insert discussion on the decision boundary and the relationship with the weights of the model.  }"
   ]
  },
  {
   "cell_type": "markdown",
   "metadata": {},
   "source": [
    "# Step 6:  Modeling the AND Dataset"
   ]
  },
  {
   "cell_type": "markdown",
   "metadata": {},
   "source": [
    "## Step 6a:  Fit model to AND Dataset\n",
    "note that we are going to break the rule about train-val split because there are only 4 datapoints in this dataset and we need them all\n",
    "\n",
    "We will use the same set for training and validation"
   ]
  },
  {
   "cell_type": "code",
   "execution_count": 17,
   "metadata": {
    "collapsed": false,
    "jupyter": {
     "outputs_hidden": false
    }
   },
   "outputs": [],
   "source": [
    "pmAND = perceptron(width=2,learningRate=0.01)\n",
    "training_verbosity = 0 #set to 1 or 2 for more detaied training output, 0 for none\n",
    "history = pmAND.fit(x=xTWO, y=yAND, batch_size=1, epochs=500, verbose=training_verbosity, callbacks=None, \n",
    "    validation_split=0.0, validation_data=(xTWO,yAND), shuffle=True, class_weight=None, \n",
    "    sample_weight=None, initial_epoch=0)"
   ]
  },
  {
   "cell_type": "markdown",
   "metadata": {},
   "source": [
    "## Step 6b:  Evaluate Training Performance on AND Dataset"
   ]
  },
  {
   "cell_type": "code",
   "execution_count": 18,
   "metadata": {
    "collapsed": false,
    "jupyter": {
     "outputs_hidden": false
    }
   },
   "outputs": [
    {
     "name": "stdout",
     "output_type": "stream",
     "text": [
      "1/1 - 0s - loss: 0.2413 - accuracy: 1.0000\n",
      "[0.24132338166236877, 1.0]\n",
      "[array([[2.0104265],\n",
      "       [1.948041 ]], dtype=float32), array([-3.4721255], dtype=float32)]\n"
     ]
    },
    {
     "data": {
      "image/png": "[encoded data removed]",
      "text/plain": [
       "<Figure size 432x288 with 1 Axes>"
      ]
     },
     "metadata": {
      "needs_background": "light"
     },
     "output_type": "display_data"
    },
    {
     "data": {
      "image/png": "[encoded data removed]",
      "text/plain": [
       "<Figure size 432x288 with 1 Axes>"
      ]
     },
     "metadata": {
      "needs_background": "light"
     },
     "output_type": "display_data"
    }
   ],
   "source": [
    "lossValMetrics = pmAND.evaluate(xTWO, yAND, batch_size=4, verbose=2, sample_weight=None)\n",
    "print(lossValMetrics)\n",
    "weights = pmAND.get_weights()\n",
    "print(weights)\n",
    "graphHistory(history, '(AND)')"
   ]
  },
  {
   "cell_type": "markdown",
   "metadata": {},
   "source": [
    "## Step 6c:  Display Decision Boundary of AND Dataset"
   ]
  },
  {
   "cell_type": "code",
   "execution_count": 19,
   "metadata": {
    "collapsed": false,
    "jupyter": {
     "outputs_hidden": false
    }
   },
   "outputs": [
    {
     "data": {
      "image/png": "[encoded data removed]",
      "text/plain": [
       "<Figure size 432x288 with 1 Axes>"
      ]
     },
     "metadata": {
      "needs_background": "light"
     },
     "output_type": "display_data"
    }
   ],
   "source": [
    "makeDecisionBoundaryBool2(pmAND,xTWO,yAND,'Final AND Decision Boundary')"
   ]
  },
  {
   "cell_type": "markdown",
   "metadata": {},
   "source": [
    "{TODO - Describe Decision Boundary on AND Dataset}"
   ]
  },
  {
   "cell_type": "markdown",
   "metadata": {},
   "source": [
    "# Step 7:  Modeling Fyfe's NUT dataset"
   ]
  },
  {
   "cell_type": "markdown",
   "metadata": {},
   "source": [
    "## Step 7a:  Fit a perceptron model to the NUT dataset\n",
    "note that we are going to break the rule about train-val split because there are only 4 datapoints in this dataset and we need them all\n",
    "\n",
    "We will use the same set for training and validation"
   ]
  },
  {
   "cell_type": "code",
   "execution_count": 20,
   "metadata": {
    "collapsed": false,
    "jupyter": {
     "outputs_hidden": false
    }
   },
   "outputs": [],
   "source": [
    "# Final learning scenario -- NUT\n",
    "#batchSize, width, learningRate\n",
    "pmNUT = perceptron(width=2,learningRate=0.1)\n",
    "training_verbosity = 0 #set to 1 or 2 for more detaied training output, 0 for none\n",
    "history = pmNUT.fit(x=xNUT, y=yNUT, batch_size=1, epochs=100, verbose=training_verbosity, callbacks=None, \n",
    "    validation_split=0.0, validation_data=(xNUT,yNUT), shuffle=True, class_weight=None, \n",
    "    sample_weight=None, initial_epoch=0)"
   ]
  },
  {
   "cell_type": "code",
   "execution_count": 21,
   "metadata": {},
   "outputs": [],
   "source": [
    "## Step 7b:  Evaluate model performance on the NUT dataset"
   ]
  },
  {
   "cell_type": "code",
   "execution_count": 22,
   "metadata": {
    "collapsed": false,
    "jupyter": {
     "outputs_hidden": false
    }
   },
   "outputs": [
    {
     "name": "stdout",
     "output_type": "stream",
     "text": [
      "1/1 - 0s - loss: 0.3191 - accuracy: 1.0000\n",
      "[0.3191290497779846, 1.0]\n",
      "[array([[-2.1132855],\n",
      "       [ 3.7415893]], dtype=float32), array([-1.5998242], dtype=float32)]\n"
     ]
    },
    {
     "data": {
      "image/png": "[encoded data removed]",
      "text/plain": [
       "<Figure size 432x288 with 1 Axes>"
      ]
     },
     "metadata": {
      "needs_background": "light"
     },
     "output_type": "display_data"
    },
    {
     "data": {
      "image/png": "[encoded data removed]",
      "text/plain": [
       "<Figure size 432x288 with 1 Axes>"
      ]
     },
     "metadata": {
      "needs_background": "light"
     },
     "output_type": "display_data"
    }
   ],
   "source": [
    "lossValMetrics = pmNUT.evaluate(xNUT, yNUT, batch_size=6, verbose=2, sample_weight=None)\n",
    "print(lossValMetrics)\n",
    "print(pmNUT.get_weights())\n",
    "graphHistory(history, '(NUT)')"
   ]
  },
  {
   "cell_type": "markdown",
   "metadata": {},
   "source": [
    "## Step 7c:  Plot decision boundary on NUT dataset"
   ]
  },
  {
   "cell_type": "code",
   "execution_count": 23,
   "metadata": {
    "collapsed": false,
    "jupyter": {
     "outputs_hidden": false
    }
   },
   "outputs": [
    {
     "data": {
      "image/png": "[encoded data removed]",
      "text/plain": [
       "<Figure size 432x288 with 1 Axes>"
      ]
     },
     "metadata": {
      "needs_background": "light"
     },
     "output_type": "display_data"
    }
   ],
   "source": [
    "makeDecisionBoundaryBool2(pmNUT,xNUT,yNUT,'Nut Dataset Decision Boundary')"
   ]
  },
  {
   "cell_type": "markdown",
   "metadata": {},
   "source": [
    "{TODO:  add discussion}"
   ]
  },
  {
   "cell_type": "markdown",
   "metadata": {},
   "source": [
    "# Step 8: Modeling XOR logic with a single perceptron"
   ]
  },
  {
   "cell_type": "markdown",
   "metadata": {},
   "source": [
    "## Step 8a:  Fit a single perceptron to the XOR data\n",
    "note that we are going to break the rule about train-val split because there are only 4 datapoints in this dataset and we need them all\n",
    "\n",
    "We will use the same set for training and validation"
   ]
  },
  {
   "cell_type": "code",
   "execution_count": 24,
   "metadata": {
    "collapsed": false,
    "jupyter": {
     "outputs_hidden": false
    }
   },
   "outputs": [
    {
     "name": "stdout",
     "output_type": "stream",
     "text": [
      "Starting XOR training\n",
      "Completed XOR training\n"
     ]
    }
   ],
   "source": [
    "# This will not perform well due to the classes are not linearly seperable\n",
    "print(\"Starting XOR training\")\n",
    "#batchSize, width, learningRate\n",
    "pm_single_layerXOR = perceptron(width=2,learningRate=.1)\n",
    "training_verbosity = 0 #set to 1 or 2 for more detaied training output, 0 for none\n",
    "history = pm_single_layerXOR.fit(x=xTWO, y=yXOR, batch_size=1, epochs=200, verbose=training_verbosity, callbacks=None, \n",
    "    validation_split=0.0, validation_data=(xTWO,yXOR), shuffle=True, class_weight=None, \n",
    "    sample_weight=None, initial_epoch=0)\n",
    "print(\"Completed XOR training\")"
   ]
  },
  {
   "cell_type": "markdown",
   "metadata": {},
   "source": [
    "## Step 8b:  Evaluate single perceptron model performance on the XOR data"
   ]
  },
  {
   "cell_type": "code",
   "execution_count": 25,
   "metadata": {
    "collapsed": false,
    "jupyter": {
     "outputs_hidden": false
    }
   },
   "outputs": [
    {
     "name": "stdout",
     "output_type": "stream",
     "text": [
      "1/1 - 0s - loss: 3.8123 - accuracy: 0.7500\n",
      "[3.812309503555298, 0.75]\n",
      "[array([[5.4560347],\n",
      "       [5.3254123]], dtype=float32), array([-2.6556752], dtype=float32)]\n"
     ]
    },
    {
     "data": {
      "image/png": "[encoded data removed]",
      "text/plain": [
       "<Figure size 432x288 with 1 Axes>"
      ]
     },
     "metadata": {
      "needs_background": "light"
     },
     "output_type": "display_data"
    },
    {
     "data": {
      "image/png": "[encoded data removed]",
      "text/plain": [
       "<Figure size 432x288 with 1 Axes>"
      ]
     },
     "metadata": {
      "needs_background": "light"
     },
     "output_type": "display_data"
    }
   ],
   "source": [
    "lossValMetrics = pm_single_layerXOR.evaluate(xTWO, yXOR, batch_size=4, verbose=2, sample_weight=None)\n",
    "print(lossValMetrics)\n",
    "print(pm_single_layerXOR.get_weights())\n",
    "graphHistory(history, '(Single Layer XOR)')"
   ]
  },
  {
   "cell_type": "markdown",
   "metadata": {},
   "source": [
    "## Step 8c:  Decision Boundary for XOR using single perceptron"
   ]
  },
  {
   "cell_type": "code",
   "execution_count": 26,
   "metadata": {
    "collapsed": false,
    "jupyter": {
     "outputs_hidden": false
    }
   },
   "outputs": [
    {
     "data": {
      "image/png": "[encoded data removed]",
      "text/plain": [
       "<Figure size 432x288 with 1 Axes>"
      ]
     },
     "metadata": {
      "needs_background": "light"
     },
     "output_type": "display_data"
    }
   ],
   "source": [
    "makeDecisionBoundaryBool2(pm_single_layerXOR,xTWO,yXOR,'Final XOR Decision Boundary (using single perceptron)')"
   ]
  },
  {
   "cell_type": "markdown",
   "metadata": {},
   "source": [
    "# Step 9:  Modeling XOR with a Multilayer Perceptron"
   ]
  },
  {
   "cell_type": "markdown",
   "metadata": {},
   "source": [
    "## Step 9a:  Define your multilayer models in Keras"
   ]
  },
  {
   "cell_type": "markdown",
   "metadata": {},
   "source": [
    "{TODO: discussion of how you built the model & selected ranges of parameter choices}"
   ]
  },
  {
   "cell_type": "code",
   "execution_count": 27,
   "metadata": {},
   "outputs": [],
   "source": [
    "#TODO - insert student code here\n",
    "# your model should be called \"pm_multi_layerXOR\"\n",
    "\n",
    " "
   ]
  },
  {
   "cell_type": "markdown",
   "metadata": {},
   "source": [
    "## Step 9b:  Fit the models on the XOR dataset"
   ]
  },
  {
   "cell_type": "code",
   "execution_count": 28,
   "metadata": {},
   "outputs": [],
   "source": [
    "#TODO - insert student code here\n"
   ]
  },
  {
   "cell_type": "markdown",
   "metadata": {},
   "source": [
    "## Step 9c:  Report the performances of the multilayer models on XOR"
   ]
  },
  {
   "cell_type": "code",
   "execution_count": 29,
   "metadata": {},
   "outputs": [],
   "source": [
    "#TODO - insert Student code here\n"
   ]
  },
  {
   "cell_type": "markdown",
   "metadata": {},
   "source": [
    "{TODO:  insert discussion here}"
   ]
  },
  {
   "cell_type": "markdown",
   "metadata": {},
   "source": [
    "## Step 9d:  Plot the decision boundary for the best multilayer perceptron on XOR"
   ]
  },
  {
   "cell_type": "code",
   "execution_count": 30,
   "metadata": {},
   "outputs": [],
   "source": [
    "#uncomment the following line after you build & train your model\n",
    "#makeDecisionBoundaryBool2(pm_multi_layerXOR,xTWO,yXOR,'Final XOR Decision Boundary (using multilayer perceptron)')"
   ]
  },
  {
   "cell_type": "markdown",
   "metadata": {},
   "source": [
    "{TODO:  insert discussion here}"
   ]
  }
 ],
 "metadata": {
  "kernelspec": {
   "display_name": "Python 3 (ipykernel)",
   "language": "python",
   "name": "python3"
  },
  "language_info": {
   "codemirror_mode": {
    "name": "ipython",
    "version": 3
   },
   "file_extension": ".py",
   "mimetype": "text/x-python",
   "name": "python",
   "nbconvert_exporter": "python",
   "pygments_lexer": "ipython3",
   "version": "3.9.12"
  }
 },
 "nbformat": 4,
 "nbformat_minor": 4
}
