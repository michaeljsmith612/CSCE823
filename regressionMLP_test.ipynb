{
 "cells": [
  {
   "cell_type": "code",
   "execution_count": 35,
   "metadata": {
    "collapsed": true
   },
   "outputs": [],
   "source": [
    "from os import environ\n",
    "environ[\"KERAS_BACKEND\"] = \"plaidml.keras.backend\"\n",
    "import keras\n",
    "\n",
    "import pandas as pd\n",
    "import matplotlib.pyplot as plt\n",
    "from sklearn.datasets import fetch_california_housing\n",
    "from sklearn.model_selection import train_test_split\n",
    "from sklearn.preprocessing import StandardScaler"
   ]
  },
  {
   "cell_type": "code",
   "execution_count": 36,
   "outputs": [],
   "source": [
    "housing = fetch_california_housing()\n",
    "X_train_full, X_test, Y_train_full, Y_test = train_test_split(housing.data, housing.target)\n",
    "X_train, X_valid, Y_train, Y_valid = train_test_split(X_train_full, Y_train_full)\n",
    "\n",
    "scaler = StandardScaler()\n",
    "X_train  = scaler.fit_transform(X_train)\n",
    "X_valid = scaler.transform(X_valid)\n",
    "X_test = scaler.transform(X_test)"
   ],
   "metadata": {
    "collapsed": false,
    "pycharm": {
     "name": "#%%\n"
    }
   }
  },
  {
   "cell_type": "code",
   "execution_count": 37,
   "outputs": [],
   "source": [
    "input_A = keras.layers.Input(shape=[5],name='wide_input')\n",
    "input_B = keras.layers.Input(shape=[6],name='deep_input')\n",
    "hidden1 = keras.layers.Dense(30, activation='relu')(input_B)\n",
    "hidden2 = keras.layers.Dense(30, activation='relu')(hidden1)\n",
    "concat = keras.layers.Concatenate()([input_A, hidden2])\n",
    "output = keras.layers.Dense(1,name='output')(concat)\n",
    "model = keras.Model(inputs=[input_A, input_B], outputs=[output])"
   ],
   "metadata": {
    "collapsed": false,
    "pycharm": {
     "name": "#%%\n"
    }
   }
  },
  {
   "cell_type": "code",
   "execution_count": 38,
   "outputs": [
    {
     "name": "stdout",
     "output_type": "stream",
     "text": [
      "__________________________________________________________________________________________________\n",
      "Layer (type)                    Output Shape         Param #     Connected to                     \n",
      "==================================================================================================\n",
      "deep_input (InputLayer)         (None, 6)            0                                            \n",
      "__________________________________________________________________________________________________\n",
      "dense_9 (Dense)                 (None, 30)           210         deep_input[0][0]                 \n",
      "__________________________________________________________________________________________________\n",
      "wide_input (InputLayer)         (None, 5)            0                                            \n",
      "__________________________________________________________________________________________________\n",
      "dense_10 (Dense)                (None, 30)           930         dense_9[0][0]                    \n",
      "__________________________________________________________________________________________________\n",
      "concatenate_4 (Concatenate)     (None, 35)           0           wide_input[0][0]                 \n",
      "                                                                 dense_10[0][0]                   \n",
      "__________________________________________________________________________________________________\n",
      "output (Dense)                  (None, 1)            36          concatenate_4[0][0]              \n",
      "==================================================================================================\n",
      "Total params: 1,176\n",
      "Trainable params: 1,176\n",
      "Non-trainable params: 0\n",
      "__________________________________________________________________________________________________\n"
     ]
    }
   ],
   "source": [
    "model.summary()"
   ],
   "metadata": {
    "collapsed": false,
    "pycharm": {
     "name": "#%%\n"
    }
   }
  },
  {
   "cell_type": "code",
   "execution_count": 39,
   "outputs": [],
   "source": [
    "model.compile(loss='mse', optimizer=keras.optimizers.SGD(lr=1e-3))"
   ],
   "metadata": {
    "collapsed": false,
    "pycharm": {
     "name": "#%%\n"
    }
   }
  },
  {
   "cell_type": "code",
   "execution_count": 40,
   "outputs": [],
   "source": [
    "X_train_A, X_train_B = X_train[:, :5], X_train[:, 2:]\n",
    "X_valid_A, X_valid_B = X_valid[:, :5], X_valid[:, 2:]\n",
    "X_test_A, X_test_B = X_test[:, :5], X_test[:, 2:]\n",
    "X_new_A, X_new_B = X_test_A[:3], X_test_B[:3]"
   ],
   "metadata": {
    "collapsed": false,
    "pycharm": {
     "name": "#%%\n"
    }
   }
  },
  {
   "cell_type": "code",
   "execution_count": 42,
   "outputs": [
    {
     "name": "stdout",
     "output_type": "stream",
     "text": [
      "Train on 11610 samples, validate on 3870 samples\n",
      "Epoch 1/20\n",
      "11610/11610 [==============================] - 2s 176us/step - loss: 1.8469 - val_loss: 0.8256\n",
      "Epoch 2/20\n",
      "11610/11610 [==============================] - 1s 103us/step - loss: 0.7433 - val_loss: 0.7283\n",
      "Epoch 3/20\n",
      "11610/11610 [==============================] - 1s 99us/step - loss: 0.6625 - val_loss: 0.6792\n",
      "Epoch 4/20\n",
      "11610/11610 [==============================] - 1s 99us/step - loss: 0.6246 - val_loss: 0.6465\n",
      "Epoch 5/20\n",
      "11610/11610 [==============================] - 1s 102us/step - loss: 0.5983 - val_loss: 0.6208\n",
      "Epoch 6/20\n",
      "11610/11610 [==============================] - 1s 100us/step - loss: 0.5774 - val_loss: 0.6016\n",
      "Epoch 7/20\n",
      "11610/11610 [==============================] - 1s 99us/step - loss: 0.5616 - val_loss: 0.5862\n",
      "Epoch 8/20\n",
      "11610/11610 [==============================] - 1s 100us/step - loss: 0.5485 - val_loss: 0.5737\n",
      "Epoch 9/20\n",
      "11610/11610 [==============================] - 1s 99us/step - loss: 0.5389 - val_loss: 0.5640\n",
      "Epoch 10/20\n",
      "11610/11610 [==============================] - 1s 98us/step - loss: 0.5303 - val_loss: 0.5559\n",
      "Epoch 11/20\n",
      "11610/11610 [==============================] - 1s 100us/step - loss: 0.5232 - val_loss: 0.5486\n",
      "Epoch 12/20\n",
      "11610/11610 [==============================] - 1s 100us/step - loss: 0.5176 - val_loss: 0.5439\n",
      "Epoch 13/20\n",
      "11610/11610 [==============================] - 1s 99us/step - loss: 0.5126 - val_loss: 0.5390\n",
      "Epoch 14/20\n",
      "11610/11610 [==============================] - 1s 102us/step - loss: 0.5084 - val_loss: 0.5344\n",
      "Epoch 15/20\n",
      "11610/11610 [==============================] - 1s 101us/step - loss: 0.5044 - val_loss: 0.5318\n",
      "Epoch 16/20\n",
      "11610/11610 [==============================] - 1s 102us/step - loss: 0.5008 - val_loss: 0.5283\n",
      "Epoch 17/20\n",
      "11610/11610 [==============================] - 1s 102us/step - loss: 0.4974 - val_loss: 0.5247\n",
      "Epoch 18/20\n",
      "11610/11610 [==============================] - 1s 101us/step - loss: 0.4944 - val_loss: 0.5223\n",
      "Epoch 19/20\n",
      "11610/11610 [==============================] - 1s 101us/step - loss: 0.4916 - val_loss: 0.5192\n",
      "Epoch 20/20\n",
      "11610/11610 [==============================] - 1s 100us/step - loss: 0.4891 - val_loss: 0.5175\n"
     ]
    }
   ],
   "source": [
    "history = model.fit([X_train_A, X_train_B], Y_train, epochs=20, validation_data=([X_valid_A,X_valid_B], Y_valid))"
   ],
   "metadata": {
    "collapsed": false,
    "pycharm": {
     "name": "#%%\n"
    }
   }
  },
  {
   "cell_type": "code",
   "execution_count": 43,
   "outputs": [
    {
     "data": {
      "text/plain": "<Figure size 576x360 with 1 Axes>",
      "image/png": "[encoded data removed]"
     },
     "metadata": {
      "needs_background": "light"
     },
     "output_type": "display_data"
    }
   ],
   "source": [
    "pd.DataFrame(history.history).plot(figsize=(8,5))\n",
    "plt.grid(True)\n",
    "plt.gca().set_ylim(0,1)\n",
    "plt.show()"
   ],
   "metadata": {
    "collapsed": false,
    "pycharm": {
     "name": "#%%\n"
    }
   }
  },
  {
   "cell_type": "code",
   "execution_count": 46,
   "outputs": [
    {
     "name": "stdout",
     "output_type": "stream",
     "text": [
      "5160/5160 [==============================] - 0s 57us/step\n"
     ]
    },
    {
     "data": {
      "text/plain": "0.4932162937498832"
     },
     "execution_count": 46,
     "metadata": {},
     "output_type": "execute_result"
    }
   ],
   "source": [
    "mse_test = model.evaluate([X_test_A, X_test_B], Y_test)\n",
    "mse_test"
   ],
   "metadata": {
    "collapsed": false,
    "pycharm": {
     "name": "#%%\n"
    }
   }
  },
  {
   "cell_type": "code",
   "execution_count": 47,
   "outputs": [
    {
     "data": {
      "text/plain": "array([[4.8840976],\n       [1.2940096],\n       [2.3001335]], dtype=float32)"
     },
     "execution_count": 47,
     "metadata": {},
     "output_type": "execute_result"
    }
   ],
   "source": [
    "Y_pred = model.predict([X_new_A, X_new_B])\n",
    "Y_pred"
   ],
   "metadata": {
    "collapsed": false,
    "pycharm": {
     "name": "#%%\n"
    }
   }
  },
  {
   "cell_type": "code",
   "execution_count": null,
   "outputs": [],
   "source": [],
   "metadata": {
    "collapsed": false,
    "pycharm": {
     "name": "#%%\n"
    }
   }
  }
 ],
 "metadata": {
  "kernelspec": {
   "display_name": "Python 3",
   "language": "python",
   "name": "python3"
  },
  "language_info": {
   "codemirror_mode": {
    "name": "ipython",
    "version": 2
   },
   "file_extension": ".py",
   "mimetype": "text/x-python",
   "name": "python",
   "nbconvert_exporter": "python",
   "pygments_lexer": "ipython2",
   "version": "2.7.6"
  }
 },
 "nbformat": 4,
 "nbformat_minor": 0
}